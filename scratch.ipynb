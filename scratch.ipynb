{
 "cells": [
  {
   "cell_type": "code",
   "execution_count": 8,
   "metadata": {},
   "outputs": [
    {
     "name": "stdout",
     "output_type": "stream",
     "text": [
      "File size (Bytes): 181393086.0 B\n",
      "File size (KB): 177141.69 KB\n",
      "File size (MB): 172.99 MB\n",
      "File size (GB): 0.17 MB\n",
      "0.1689354758709669\n"
     ]
    }
   ],
   "source": [
    "import os\n",
    "\n",
    "image_path = './images'\n",
    "\n",
    "def get_dir_size(path='.'):\n",
    "    total = 0.0\n",
    "    with os.scandir(path) as entries:\n",
    "        for entry in entries:\n",
    "            if entry.is_file():\n",
    "                total += entry.stat().st_size # size in bytes \n",
    "    \n",
    "    filesize_kb = total/1024\n",
    "    filesize_mb = filesize_kb/1024\n",
    "    filesize_gb= filesize_mb/1024\n",
    "\n",
    "\n",
    "    print(f'File size (Bytes): {total} B')\n",
    "    print(f'File size (KB): {filesize_kb:.2f} KB')\n",
    "    print(f'File size (MB): {filesize_mb:.2f} MB')\n",
    "    print(f'File size (GB): {filesize_gb:.2f} GB')\n",
    "\n",
    "\n",
    "    return total / (1024 * 1024 * 1024) # size in GB\n",
    "\n",
    "dir_size = get_dir_size(image_path)\n",
    "print(dir_size)"
   ]
  }
 ],
 "metadata": {
  "kernelspec": {
   "display_name": ".env",
   "language": "python",
   "name": "python3"
  },
  "language_info": {
   "name": "python",
   "version": "3.10.13"
  }
 },
 "nbformat": 4,
 "nbformat_minor": 2
}
