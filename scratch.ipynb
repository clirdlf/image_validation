{
 "cells": [
  {
   "cell_type": "code",
   "execution_count": 8,
   "metadata": {},
   "outputs": [
    {
     "name": "stdout",
     "output_type": "stream",
     "text": [
      "File size (Bytes): 181393086.0 B\n",
      "File size (KB): 177141.69 KB\n",
      "File size (MB): 172.99 MB\n",
      "File size (GB): 0.17 MB\n",
      "0.1689354758709669\n"
     ]
    }
   ],
   "source": [
    "import os\n",
    "\n",
    "image_path = './images'\n",
    "\n",
    "def get_dir_size(path='.'):\n",
    "    total = 0.0\n",
    "    with os.scandir(path) as entries:\n",
    "        for entry in entries:\n",
    "            if entry.is_file():\n",
    "                total += entry.stat().st_size # size in bytes \n",
    "    \n",
    "    filesize_kb = total/1024\n",
    "    filesize_mb = filesize_kb/1024\n",
    "    filesize_gb= filesize_mb/1024\n",
    "\n",
    "\n",
    "    print(f'File size (Bytes): {total} B')\n",
    "    print(f'File size (KB): {filesize_kb:.2f} KB')\n",
    "    print(f'File size (MB): {filesize_mb:.2f} MB')\n",
    "    print(f'File size (GB): {filesize_gb:.2f} GB')\n",
    "\n",
    "\n",
    "    return total / (1024 * 1024 * 1024) # size in GB\n",
    "\n",
    "dir_size = get_dir_size(image_path)\n",
    "print(dir_size)"
   ]
  },
  {
   "cell_type": "code",
   "execution_count": 9,
   "metadata": {},
   "outputs": [
    {
     "data": {
      "text/html": [
       "<div>\n",
       "<style scoped>\n",
       "    .dataframe tbody tr th:only-of-type {\n",
       "        vertical-align: middle;\n",
       "    }\n",
       "\n",
       "    .dataframe tbody tr th {\n",
       "        vertical-align: top;\n",
       "    }\n",
       "\n",
       "    .dataframe thead th {\n",
       "        text-align: right;\n",
       "    }\n",
       "</style>\n",
       "<table border=\"1\" class=\"dataframe\">\n",
       "  <thead>\n",
       "    <tr style=\"text-align: right;\">\n",
       "      <th></th>\n",
       "      <th>filepath</th>\n",
       "      <th>score</th>\n",
       "      <th>blurry</th>\n",
       "      <th>hash</th>\n",
       "    </tr>\n",
       "  </thead>\n",
       "  <tbody>\n",
       "    <tr>\n",
       "      <th>2</th>\n",
       "      <td>images/IMG_0001.JPG</td>\n",
       "      <td>83.631971</td>\n",
       "      <td>True</td>\n",
       "      <td>6059236260845071108</td>\n",
       "    </tr>\n",
       "    <tr>\n",
       "      <th>20</th>\n",
       "      <td>images/IMG_0001 copy.JPG</td>\n",
       "      <td>83.631971</td>\n",
       "      <td>True</td>\n",
       "      <td>6059236260845071108</td>\n",
       "    </tr>\n",
       "  </tbody>\n",
       "</table>\n",
       "</div>"
      ],
      "text/plain": [
       "                    filepath      score  blurry                 hash\n",
       "2        images/IMG_0001.JPG  83.631971    True  6059236260845071108\n",
       "20  images/IMG_0001 copy.JPG  83.631971    True  6059236260845071108"
      ]
     },
     "execution_count": 9,
     "metadata": {},
     "output_type": "execute_result"
    }
   ],
   "source": [
    "import pandas as pd\n",
    "\n",
    "df = pd.read_csv('results.csv')\n",
    "df1 = df[df.duplicated('hash', keep=False)].sort_values('hash')\n",
    "df1.head()"
   ]
  },
  {
   "cell_type": "code",
   "execution_count": 10,
   "metadata": {},
   "outputs": [
    {
     "name": "stdout",
     "output_type": "stream",
     "text": [
      "difPy preparing files: [100%]\n",
      "difPy searching files: [100%]\n",
      "{'images/IMG_0001.JPG': [['images/IMG_0001 copy.JPG', 0.0]]}\n"
     ]
    }
   ],
   "source": [
    "import difPy\n",
    "\n",
    "dif = difPy.build('images')\n",
    "search = difPy.search(dif)\n",
    "\n",
    "print(search.result)"
   ]
  },
  {
   "cell_type": "code",
   "execution_count": 8,
   "metadata": {},
   "outputs": [
    {
     "name": "stdout",
     "output_type": "stream",
     "text": [
      "6059236260845071108\n",
      "6059236260845071108\n",
      "3658872103048768818\n"
     ]
    }
   ],
   "source": [
    "import cv2 \n",
    "\n",
    "def pHash(cv_image):\n",
    "    imgg = cv2.cvtColor(cv_image, cv2.COLOR_BGR2GRAY)\n",
    "    h=cv2.img_hash.pHash(imgg) # 8-byte hash\n",
    "    pH=int.from_bytes(h.tobytes(), byteorder='big', signed=False)\n",
    "    return pH\n",
    "\n",
    "image1 = cv2.imread(str('images/IMG_0001.JPG'))\n",
    "image2 = cv2.imread(str('images/IMG_0001.JPG'))\n",
    "image3 = cv2.imread(str('images/IMG_0002.JPG'))\n",
    "\n",
    "hash1 = pHash(image1)\n",
    "hash2 = pHash(image2)\n",
    "hash3 = pHash(image3)\n",
    "\n",
    "print(hash1)\n",
    "print(hash2)\n",
    "print(hash3)\n",
    "\n"
   ]
  }
 ],
 "metadata": {
  "kernelspec": {
   "display_name": ".env",
   "language": "python",
   "name": "python3"
  },
  "language_info": {
   "codemirror_mode": {
    "name": "ipython",
    "version": 3
   },
   "file_extension": ".py",
   "mimetype": "text/x-python",
   "name": "python",
   "nbconvert_exporter": "python",
   "pygments_lexer": "ipython3",
   "version": "3.10.13"
  }
 },
 "nbformat": 4,
 "nbformat_minor": 2
}
